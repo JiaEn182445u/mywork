{
  "nbformat": 4,
  "nbformat_minor": 0,
  "metadata": {
    "colab": {
      "name": "Copy of Submission1.ipynb",
      "version": "0.3.2",
      "provenance": [],
      "collapsed_sections": [],
      "include_colab_link": true
    },
    "kernelspec": {
      "name": "python3",
      "display_name": "Python 3"
    }
  },
  "cells": [
    {
      "cell_type": "markdown",
      "metadata": {
        "id": "view-in-github",
        "colab_type": "text"
      },
      "source": [
        "<a href=\"https://colab.research.google.com/github/JiaEn182445u/mywork/blob/master/Copy_of_Submission1(new).ipynb\" target=\"_parent\"><img src=\"https://colab.research.google.com/assets/colab-badge.svg\" alt=\"Open In Colab\"/></a>"
      ]
    },
    {
      "metadata": {
        "id": "3NBjrxpxOQND",
        "colab_type": "code",
        "colab": {}
      },
      "cell_type": "code",
      "source": [
        ""
      ],
      "execution_count": 0,
      "outputs": []
    },
    {
      "metadata": {
        "id": "Cj0DTHlsORQS",
        "colab_type": "text"
      },
      "cell_type": "markdown",
      "source": [
        "# Submission #1 - Classes, Objects and Methods\n",
        "\n",
        "Create a program to simulate the tossing of a coin.  In the program, we need to repeatedly toss the coin and determine whether it landed heads up or tails up.  We will write a class Coin that can perform the behaviours of the coin.  You should apply encapsulation whenever possible.  In this class, you should have the following methods:\n",
        "\n",
        "*   An initializer with no parameter, that defines a data attribute, sideup, and initializes it with ‘Heads’.\n",
        "*   A method, toss() with no parameter, that generates a random number in the range of 0 through 1.  If the number is 0, then data attribute sideup is set to ‘Heads’.  Otherwise, sideup is set to ‘Tails’.  It should print ‘I am tossing the coin …’ too.\n",
        "*  An accessor method, get_sideup() that returns the value of data attribute, sideup.\n",
        "\n",
        "Complete the Con class below and run it:"
      ]
    },
    {
      "metadata": {
        "id": "NxpX_4tUO0uK",
        "colab_type": "code",
        "colab": {}
      },
      "cell_type": "code",
      "source": [
        "# import random generator\n",
        "\n",
        "\n",
        "class Coin:\n",
        "  # __init__ with no parameter, 1 data attribute, sideup that initializes to 'Heads'\n",
        "  def __init__(self):\n",
        "    self.sideup=\"head\"\n",
        "  \n",
        "  \n",
        "  # toss() method with no parameter, generates a random 0 or 1.  sideup set to Heads if 0 \n",
        "  def toss(self):\n",
        "    import random\n",
        "    r=random.randint(0, 1)\n",
        "    if r==0:\n",
        "   \n",
        "      self.sideup=\"head\"\n",
        "    elif r==1:\n",
        "      self.sideup=\"tail\"\n",
        "    print(\"I am tossing the coin...\")\n",
        "      \n",
        "       \n",
        "  # get_sideup() accessor method\n",
        "  def get_sideup(self):\n",
        "    return self.sideup\n",
        "\n",
        "  \n",
        "\n",
        "  "
      ],
      "execution_count": 0,
      "outputs": []
    },
    {
      "metadata": {
        "id": "SXysFHlxRAkp",
        "colab_type": "text"
      },
      "cell_type": "markdown",
      "source": [
        "Creates a main() function that uses the Coin class to simulate the tossing of coin and run the function\n",
        "\n",
        "\n",
        "1.   Instantiate a coin object from Coin class\n",
        "2.   Display the side of the coin that is facing up at the start\n",
        "3.   Toss the coin\n",
        "4.   Display the side of the coin that is facing up again\n",
        "\n",
        "Sample output is given below:\n",
        "\n",
        "```\n",
        "Heads\n",
        "I am tossing the coin …\n",
        "Tails\n",
        "```"
      ]
    },
    {
      "metadata": {
        "id": "gMNkgS_KV_0_",
        "colab_type": "code",
        "outputId": "38d67f01-560e-4cc8-f2ee-ba7604487ec2",
        "colab": {
          "base_uri": "https://localhost:8080/",
          "height": 69
        }
      },
      "cell_type": "code",
      "source": [
        "c=Coin()\n",
        "def main():\n",
        "  # Create an instance from Coin class\n",
        "  \n",
        "  \n",
        "  \n",
        "  # Display the side of the coin that is facing up\n",
        "  display=c.get_sideup()\n",
        "  print(display)\n",
        "  \n",
        "  # Toss the coin\n",
        "  c.toss()\n",
        "  \n",
        "  \n",
        "  # Display the side again\n",
        "  print(display)\n",
        "\n",
        "  \n",
        "main()"
      ],
      "execution_count": 44,
      "outputs": [
        {
          "output_type": "stream",
          "text": [
            "head\n",
            "I am tossing the coin...\n",
            "head\n"
          ],
          "name": "stdout"
        }
      ]
    },
    {
      "metadata": {
        "id": "V4t4VyNZkDQ2",
        "colab_type": "text"
      },
      "cell_type": "markdown",
      "source": [
        "Creates another function, calculate() that allows user to calculate the probability of getting sideup to be Heads, after tossing the coin for x number of times, where x is number provided by user.\n",
        "\n",
        "Sample output is given below:\n",
        "\n",
        "\n",
        "\n",
        "```\n",
        "Enter the number of times to flip the coin: 5\n",
        "I am tossing the coin ... \n",
        "Heads\n",
        "I am tossing the coin ... \n",
        "Heads\n",
        "I am tossing the coin ... \n",
        "Heads\n",
        "I am tossing the coin ... \n",
        "Heads\n",
        "I am tossing the coin ... \n",
        "Heads\n",
        "Result : 5 heads out of 5\n",
        "```\n"
      ]
    },
    {
      "metadata": {
        "id": "tDxsl9ozsLfZ",
        "colab_type": "code",
        "outputId": "612241a6-c78a-4b36-ee9d-4d6056bf8d6a",
        "colab": {
          "base_uri": "https://localhost:8080/",
          "height": 364
        }
      },
      "cell_type": "code",
      "source": [
        "c=Coin()\n",
        "def calculate():\n",
        "  count=0\n",
        " \n",
        "  # complete the function here\n",
        "  num=int(input(\"Enter the number of times to flip the coin:\"))\n",
        "  for i in range(num):\n",
        "    \n",
        "    c.toss()\n",
        "    c.get_sideup()\n",
        "  \n",
        "    print(c.get_sideup())\n",
        "    \n",
        "    if c.sideup==\"head\":\n",
        "      count+=1\n",
        "  print(\"result:\"+str(count)+\" heads out of \"+str(num))\n",
        "  \n",
        "\n",
        "  \n",
        "calculate()"
      ],
      "execution_count": 47,
      "outputs": [
        {
          "output_type": "stream",
          "text": [
            "Enter the number of times to flip the coin:9\n",
            "I am tossing the coin...\n",
            "tail\n",
            "I am tossing the coin...\n",
            "tail\n",
            "I am tossing the coin...\n",
            "head\n",
            "I am tossing the coin...\n",
            "tail\n",
            "I am tossing the coin...\n",
            "tail\n",
            "I am tossing the coin...\n",
            "head\n",
            "I am tossing the coin...\n",
            "tail\n",
            "I am tossing the coin...\n",
            "head\n",
            "I am tossing the coin...\n",
            "tail\n",
            "result:3 heads out of 9\n"
          ],
          "name": "stdout"
        }
      ]
    },
    {
      "metadata": {
        "id": "zKiXlDXaMknV",
        "colab_type": "code",
        "colab": {}
      },
      "cell_type": "code",
      "source": [
        ""
      ],
      "execution_count": 0,
      "outputs": []
    }
  ]
}