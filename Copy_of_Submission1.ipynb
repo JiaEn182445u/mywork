{
  "nbformat": 4,
  "nbformat_minor": 0,
  "metadata": {
    "colab": {
      "name": "Copy of Submission1.ipynb",
      "version": "0.3.2",
      "provenance": [],
      "collapsed_sections": [],
      "include_colab_link": true
    },
    "kernelspec": {
      "name": "python3",
      "display_name": "Python 3"
    }
  },
  "cells": [
    {
      "cell_type": "markdown",
      "metadata": {
        "id": "view-in-github",
        "colab_type": "text"
      },
      "source": [
        "<a href=\"https://colab.research.google.com/github/JiaEn182445u/mywork/blob/master/Copy_of_Submission1.ipynb\" target=\"_parent\"><img src=\"https://colab.research.google.com/assets/colab-badge.svg\" alt=\"Open In Colab\"/></a>"
      ]
    },
    {
      "metadata": {
        "id": "3NBjrxpxOQND",
        "colab_type": "code",
        "colab": {}
      },
      "cell_type": "code",
      "source": [
        ""
      ],
      "execution_count": 0,
      "outputs": []
    },
    {
      "metadata": {
        "id": "Cj0DTHlsORQS",
        "colab_type": "text"
      },
      "cell_type": "markdown",
      "source": [
        "# Submission #1 - Classes, Objects and Methods\n",
        "\n",
        "Create a program to simulate the tossing of a coin.  In the program, we need to repeatedly toss the coin and determine whether it landed heads up or tails up.  We will write a class Coin that can perform the behaviours of the coin.  You should apply encapsulation whenever possible.  In this class, you should have the following methods:\n",
        "\n",
        "*   An initializer with no parameter, that defines a data attribute, sideup, and initializes it with ‘Heads’.\n",
        "*   A method, toss() with no parameter, that generates a random number in the range of 0 through 1.  If the number is 0, then data attribute sideup is set to ‘Heads’.  Otherwise, sideup is set to ‘Tails’.  It should print ‘I am tossing the coin …’ too.\n",
        "*  An accessor method, get_sideup() that returns the value of data attribute, sideup.\n",
        "\n",
        "Complete the Con class below and run it:"
      ]
    },
    {
      "metadata": {
        "id": "NxpX_4tUO0uK",
        "colab_type": "code",
        "colab": {}
      },
      "cell_type": "code",
      "source": [
        "# import random generator\n",
        "\n",
        "\n",
        "class Coin:\n",
        "  # __init__ with no parameter, 1 data attribute, sideup that initializes to 'Heads'\n",
        "  def __init__(self):\n",
        "    self.sideup=\"\"\n",
        "  \n",
        "  \n",
        "  # toss() method with no parameter, generates a random 0 or 1.  sideup set to Heads if 0 \n",
        "  def toss(self):\n",
        "    import random\n",
        "    r=random.randint(0, 1)\n",
        "    if r==0:\n",
        "      def set_sideup(self,sideup):\n",
        "        self.sideup=\"head\"\n",
        "    elif r==1:\n",
        "       def set_sideup(self,sideup):\n",
        "        self.sideup=\"tail\"\n",
        "      \n",
        "       \n",
        "  # get_sideup() accessor method\n",
        "  def get_sideup(self):\n",
        "    return self.sideup\n",
        "\n",
        "  \n",
        "\n",
        "  "
      ],
      "execution_count": 0,
      "outputs": []
    },
    {
      "metadata": {
        "id": "SXysFHlxRAkp",
        "colab_type": "text"
      },
      "cell_type": "markdown",
      "source": [
        "Creates a main() function that uses the Coin class to simulate the tossing of coin and run the function\n",
        "\n",
        "\n",
        "1.   Instantiate a coin object from Coin class\n",
        "2.   Display the side of the coin that is facing up at the start\n",
        "3.   Toss the coin\n",
        "4.   Display the side of the coin that is facing up again\n",
        "\n",
        "Sample output is given below:\n",
        "\n",
        "```\n",
        "Heads\n",
        "I am tossing the coin …\n",
        "Tails\n",
        "```"
      ]
    },
    {
      "metadata": {
        "id": "gMNkgS_KV_0_",
        "colab_type": "code",
        "colab": {
          "base_uri": "https://localhost:8080/",
          "height": 52
        },
        "outputId": "2a1b8eea-1216-4cfd-8463-a6585bec006d"
      },
      "cell_type": "code",
      "source": [
        "def main():\n",
        "  # Create an instance from Coin class\n",
        "  c=Coin()\n",
        "  \n",
        "  \n",
        "  # Display the side of the coin that is facing up\n",
        "  display=c.get_sideup()\n",
        "  print(display)\n",
        "  \n",
        "  # Toss the coin\n",
        "  c.toss()\n",
        "  \n",
        "  \n",
        "  # Display the side again\n",
        "  print(display)\n",
        "\n",
        "  \n",
        "main()"
      ],
      "execution_count": 11,
      "outputs": [
        {
          "output_type": "stream",
          "text": [
            "\n",
            "\n"
          ],
          "name": "stdout"
        }
      ]
    },
    {
      "metadata": {
        "id": "V4t4VyNZkDQ2",
        "colab_type": "text"
      },
      "cell_type": "markdown",
      "source": [
        "Creates another function, calculate() that allows user to calculate the probability of getting sideup to be Heads, after tossing the coin for x number of times, where x is number provided by user.\n",
        "\n",
        "Sample output is given below:\n",
        "\n",
        "\n",
        "\n",
        "```\n",
        "Enter the number of times to flip the coin: 5\n",
        "I am tossing the coin ... \n",
        "Heads\n",
        "I am tossing the coin ... \n",
        "Heads\n",
        "I am tossing the coin ... \n",
        "Heads\n",
        "I am tossing the coin ... \n",
        "Heads\n",
        "I am tossing the coin ... \n",
        "Heads\n",
        "Result : 5 heads out of 5\n",
        "```\n"
      ]
    },
    {
      "metadata": {
        "id": "tDxsl9ozsLfZ",
        "colab_type": "code",
        "colab": {
          "base_uri": "https://localhost:8080/",
          "height": 374
        },
        "outputId": "cd6f82df-78ac-4de4-f039-b005a22ef2d0"
      },
      "cell_type": "code",
      "source": [
        "def calculate():\n",
        "  count=0\n",
        "  # complete the function here\n",
        "  num=int(input(\"Enter the number of times to flip the coin:\"))\n",
        "  for i in range(num):\n",
        "    main()\n",
        "    if toss().r==0:\n",
        "      count+=1\n",
        "  print(\"result:\"+count+\" heads out of \"+num)\n",
        "  \n",
        "\n",
        "  \n",
        "calculate()"
      ],
      "execution_count": 16,
      "outputs": [
        {
          "output_type": "stream",
          "text": [
            "Enter the number of times to flip the coin:2\n",
            "\n",
            "\n"
          ],
          "name": "stdout"
        },
        {
          "output_type": "error",
          "ename": "NameError",
          "evalue": "ignored",
          "traceback": [
            "\u001b[0;31m---------------------------------------------------------------------------\u001b[0m",
            "\u001b[0;31mNameError\u001b[0m                                 Traceback (most recent call last)",
            "\u001b[0;32m<ipython-input-16-e83c552a3294>\u001b[0m in \u001b[0;36m<module>\u001b[0;34m()\u001b[0m\n\u001b[1;32m     11\u001b[0m \u001b[0;34m\u001b[0m\u001b[0m\n\u001b[1;32m     12\u001b[0m \u001b[0;34m\u001b[0m\u001b[0m\n\u001b[0;32m---> 13\u001b[0;31m \u001b[0mcalculate\u001b[0m\u001b[0;34m(\u001b[0m\u001b[0;34m)\u001b[0m\u001b[0;34m\u001b[0m\u001b[0m\n\u001b[0m",
            "\u001b[0;32m<ipython-input-16-e83c552a3294>\u001b[0m in \u001b[0;36mcalculate\u001b[0;34m()\u001b[0m\n\u001b[1;32m      5\u001b[0m   \u001b[0;32mfor\u001b[0m \u001b[0mi\u001b[0m \u001b[0;32min\u001b[0m \u001b[0mrange\u001b[0m\u001b[0;34m(\u001b[0m\u001b[0mnum\u001b[0m\u001b[0;34m)\u001b[0m\u001b[0;34m:\u001b[0m\u001b[0;34m\u001b[0m\u001b[0m\n\u001b[1;32m      6\u001b[0m     \u001b[0mmain\u001b[0m\u001b[0;34m(\u001b[0m\u001b[0;34m)\u001b[0m\u001b[0;34m\u001b[0m\u001b[0m\n\u001b[0;32m----> 7\u001b[0;31m     \u001b[0;32mif\u001b[0m \u001b[0mtoss\u001b[0m\u001b[0;34m(\u001b[0m\u001b[0;34m)\u001b[0m\u001b[0;34m.\u001b[0m\u001b[0mr\u001b[0m\u001b[0;34m==\u001b[0m\u001b[0;36m0\u001b[0m\u001b[0;34m:\u001b[0m\u001b[0;34m\u001b[0m\u001b[0m\n\u001b[0m\u001b[1;32m      8\u001b[0m       \u001b[0mcount\u001b[0m\u001b[0;34m+=\u001b[0m\u001b[0;36m1\u001b[0m\u001b[0;34m\u001b[0m\u001b[0m\n\u001b[1;32m      9\u001b[0m   \u001b[0mprint\u001b[0m\u001b[0;34m(\u001b[0m\u001b[0;34m\"result:\"\u001b[0m\u001b[0;34m+\u001b[0m\u001b[0mcount\u001b[0m\u001b[0;34m+\u001b[0m\u001b[0;34m\" heads out of \"\u001b[0m\u001b[0;34m+\u001b[0m\u001b[0mnum\u001b[0m\u001b[0;34m)\u001b[0m\u001b[0;34m\u001b[0m\u001b[0m\n",
            "\u001b[0;31mNameError\u001b[0m: name 'toss' is not defined"
          ]
        }
      ]
    }
  ]
}